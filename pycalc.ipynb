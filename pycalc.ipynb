import sympy as sp
x=sp.Symbol('x')
print(sp.diff(3*x**2 + 1,x))

from scipy.misc import derivative
def f(x):
    return 3*x**2 + 1

print(derivative(f,2.0))

%matplotlib inline
import matplotlib.pyplot as plt
import numpy as np
y = np.linspace(-3,3)
plt.plot(y,f(y))
